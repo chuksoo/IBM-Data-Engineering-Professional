{
 "cells": [
  {
   "cell_type": "markdown",
   "metadata": {},
   "source": [
    "#### Acquiring and Processing Information on the World's Largest Banks"
   ]
  },
  {
   "cell_type": "markdown",
   "metadata": {},
   "source": [
    "You have been hired as a data engineer by research organization. Your boss has asked you to create a code that can be used to compile the list of the top 10 largest banks in the world ranked by market capitalization in billion USD. Further, the data needs to be transformed and stored in USD, GBP, EUR and INR as well, in accordance with the exchange rate information that has been made available to you as a CSV file. The processed information table is to be saved locally in a CSV format and as a database table.\n",
    "\n",
    "Your job is to create an automated system to generate this information so that the same can be executed in every financial quarter to prepare the report."
   ]
  },
  {
   "cell_type": "markdown",
   "metadata": {},
   "source": [
    "##### ETL Process"
   ]
  },
  {
   "cell_type": "code",
   "execution_count": 94,
   "metadata": {},
   "outputs": [
    {
     "name": "stdout",
     "output_type": "stream",
     "text": [
      "Project libraries have been imported successfully\n"
     ]
    }
   ],
   "source": [
    "# Import the libraries for web scraping and data manipulation\n",
    "import requests\n",
    "import sqlite3\n",
    "import numpy as np\n",
    "import pandas as pd\n",
    "from bs4 import BeautifulSoup\n",
    "from datetime import datetime\n",
    "print(\"Project libraries have been imported successfully\")\n",
    "\n",
    "# Store final output data and all logs\n",
    "log_file = \"code_log.txt\"\n",
    "target_file = \"Largest_banks_data.csv\"\n",
    "\n",
    "# Initialize all known entities\n",
    "data_url = 'https://en.wikipedia.org/wiki/List_of_largest_banks'\n",
    "csv_url = 'https://cf-courses-data.s3.us.cloud-object-storage.appdomain.cloud/IBMSkillsNetwork-PY0221EN-Coursera/labs/v2/exchange_rate.csv'\n",
    "table_attribs = [\"Name\", \"MC_USD_Billions\"]\n",
    "table_attribs_final = [\"Name\", \"MC_USD_Billion\", \"MC_GBP_Billion\", \"MC_EUR_Billion\", \"MC_INR_Billion\"]\n",
    "\n",
    "db_name = \"Banks.db\"\n",
    "table_name = \"Largest_banks\"\n",
    "csv_path = '~/Documents/IBM-Data-Engineering-Professional/Course 3 - Python Project for Data Engineering/Extract, Transform and Load Market Capitalization data/Largest_banks_data.csv'\n",
    "\n",
    "# Useful functions for ETL operations on Market capitalization data\n",
    "# Extraction\n",
    "def extract(data_url, table_attribs):\n",
    "    html_page = requests.get(data_url).text\n",
    "    data = BeautifulSoup(html_page, 'html.parser')\n",
    "    # Using find_all() function\n",
    "    extracted_data = pd.DataFrame(columns = table_attribs)\n",
    "    tables = data.find_all(\"tbody\")\n",
    "    rows = tables[0].find_all(\"tr\")\n",
    "    for row in rows:\n",
    "        col = row.find_all(\"td\")\n",
    "        if len(col) != 0:\n",
    "            data_dict = {\"Name\": col[1].contents[2].contents,\n",
    "                        \"MC_USD_Billions\": col[2].contents[0].strip()}\n",
    "            df1 = pd.DataFrame(data_dict, index = [0])\n",
    "            extracted_data = pd.concat([extracted_data, df1], ignore_index = True)\n",
    "    return extracted_data\n",
    "\n",
    "\n",
    "# Transformation\n",
    "def transform(df, csv_url): \n",
    "    ''' This function gets exchange information from csv_url and transform the dataframe by \n",
    "    adding columns for Market Capitalization in GBP, EUR, and INR, rounded to 2 decimal places.\n",
    "    The function returns the transformed dataframe.'''\n",
    "    # Get exchange data\n",
    "    exchange_info = pd.read_csv(csv_url)\n",
    "    \n",
    "    # Convert GDP value from string to float\n",
    "    df.MC_GBP_Billions = round(df.MC_USD_Billions * exchange_info.loc[exchange_info[\"Currency\"] == \"GBP\", \"Rate\"], 2)\n",
    "    df.MC_EUR_Billions = round(df.MC_USD_Billions * exchange_info.loc[exchange_info[\"Currency\"] == \"EUR\", \"Rate\"], 2)\n",
    "    df.MC_INR_Billions = round(df.MC_USD_Billions * exchange_info.loc[exchange_info[\"Currency\"] == \"INR\", \"Rate\"], 2)\n",
    "    return df\n",
    "\n",
    "# Loading and Logging\n",
    "def load_to_csv(df, csv_path):\n",
    "    ''' This function saves the final dataframe as a `CSV` file \n",
    "    in the provided path. Function returns nothing.'''\n",
    "    df.to_csv(csv_path)\n",
    "\n",
    "def load_to_db(df, sql_connection, table_name):\n",
    "    ''' This function saves the final dataframe as a database table\n",
    "    with the provided name. Function returns nothing.'''\n",
    "    df.to_sql(table_name, sql_connection, if_exists= \"replace\", index = False)\n",
    "    \n",
    "def run_query(query_statement, sql_connection):\n",
    "    ''' This function runs the stated query on the database table and\n",
    "    prints the output on the terminal. Function returns nothing. '''\n",
    "    print(query_statement)\n",
    "    return pd.read_sql(query_statement, sql_connection)\n",
    "    \n",
    "def log_progress(message):\n",
    "    ''' This function logs the mentioned message at a given stage of the code execution to a log file. Function returns nothing'''\n",
    "    timestamp_format = '%Y-%h-%d-%H:%M:%S' # Year-Monthname-Day-Hour-Minute-Second \n",
    "    now = datetime.now() # get current timestamp \n",
    "    timestamp = now.strftime(timestamp_format) \n",
    "    with open(\"./code_log.txt\", \"a\") as f: \n",
    "        f.write(timestamp + ', ' + message + '\\n')   \n"
   ]
  },
  {
   "cell_type": "code",
   "execution_count": 95,
   "metadata": {},
   "outputs": [
    {
     "ename": "TypeError",
     "evalue": "can't multiply sequence by non-int of type 'float'",
     "output_type": "error",
     "traceback": [
      "\u001b[1;31m---------------------------------------------------------------------------\u001b[0m",
      "\u001b[1;31mTypeError\u001b[0m                                 Traceback (most recent call last)",
      "File \u001b[1;32mc:\\Users\\cookoli\\AppData\\Local\\Programs\\Python\\Python312\\Lib\\site-packages\\pandas\\core\\ops\\array_ops.py:220\u001b[0m, in \u001b[0;36m_na_arithmetic_op\u001b[1;34m(left, right, op, is_cmp)\u001b[0m\n\u001b[0;32m    219\u001b[0m \u001b[39mtry\u001b[39;00m:\n\u001b[1;32m--> 220\u001b[0m     result \u001b[39m=\u001b[39m func(left, right)\n\u001b[0;32m    221\u001b[0m \u001b[39mexcept\u001b[39;00m \u001b[39mTypeError\u001b[39;00m:\n",
      "File \u001b[1;32mc:\\Users\\cookoli\\AppData\\Local\\Programs\\Python\\Python312\\Lib\\site-packages\\pandas\\core\\computation\\expressions.py:242\u001b[0m, in \u001b[0;36mevaluate\u001b[1;34m(op, a, b, use_numexpr)\u001b[0m\n\u001b[0;32m    240\u001b[0m     \u001b[39mif\u001b[39;00m use_numexpr:\n\u001b[0;32m    241\u001b[0m         \u001b[39m# error: \"None\" not callable\u001b[39;00m\n\u001b[1;32m--> 242\u001b[0m         \u001b[39mreturn\u001b[39;00m _evaluate(op, op_str, a, b)  \u001b[39m# type: ignore[misc]\u001b[39;00m\n\u001b[0;32m    243\u001b[0m \u001b[39mreturn\u001b[39;00m _evaluate_standard(op, op_str, a, b)\n",
      "File \u001b[1;32mc:\\Users\\cookoli\\AppData\\Local\\Programs\\Python\\Python312\\Lib\\site-packages\\pandas\\core\\computation\\expressions.py:73\u001b[0m, in \u001b[0;36m_evaluate_standard\u001b[1;34m(op, op_str, a, b)\u001b[0m\n\u001b[0;32m     72\u001b[0m     _store_test_result(\u001b[39mFalse\u001b[39;00m)\n\u001b[1;32m---> 73\u001b[0m \u001b[39mreturn\u001b[39;00m op(a, b)\n",
      "\u001b[1;31mTypeError\u001b[0m: can't multiply sequence by non-int of type 'float'",
      "\nDuring handling of the above exception, another exception occurred:\n",
      "\u001b[1;31mTypeError\u001b[0m                                 Traceback (most recent call last)",
      "\u001b[1;32mc:\\Users\\cookoli\\Documents\\IBM-Data-Engineering-Professional\\Course 3 - Python Project for Data Engineering\\Extract, Transform and Load Market Capitalization data\\banks_project.ipynb Cell 5\u001b[0m line \u001b[0;36m8\n\u001b[0;32m      <a href='vscode-notebook-cell:/c%3A/Users/cookoli/Documents/IBM-Data-Engineering-Professional/Course%203%20-%20Python%20Project%20for%20Data%20Engineering/Extract%2C%20Transform%20and%20Load%20Market%20Capitalization%20data/banks_project.ipynb#W6sZmlsZQ%3D%3D?line=5'>6</a>\u001b[0m \u001b[39m# Log the completion of the Extraction process and begin transformation process\u001b[39;00m\n\u001b[0;32m      <a href='vscode-notebook-cell:/c%3A/Users/cookoli/Documents/IBM-Data-Engineering-Professional/Course%203%20-%20Python%20Project%20for%20Data%20Engineering/Extract%2C%20Transform%20and%20Load%20Market%20Capitalization%20data/banks_project.ipynb#W6sZmlsZQ%3D%3D?line=6'>7</a>\u001b[0m log_progress(\u001b[39m\"\u001b[39m\u001b[39mData extraction complete. Initiating Transformation process\u001b[39m\u001b[39m\"\u001b[39m)\n\u001b[1;32m----> <a href='vscode-notebook-cell:/c%3A/Users/cookoli/Documents/IBM-Data-Engineering-Professional/Course%203%20-%20Python%20Project%20for%20Data%20Engineering/Extract%2C%20Transform%20and%20Load%20Market%20Capitalization%20data/banks_project.ipynb#W6sZmlsZQ%3D%3D?line=7'>8</a>\u001b[0m transformed_data \u001b[39m=\u001b[39m transform(extracted_data, csv_url) \n\u001b[0;32m      <a href='vscode-notebook-cell:/c%3A/Users/cookoli/Documents/IBM-Data-Engineering-Professional/Course%203%20-%20Python%20Project%20for%20Data%20Engineering/Extract%2C%20Transform%20and%20Load%20Market%20Capitalization%20data/banks_project.ipynb#W6sZmlsZQ%3D%3D?line=8'>9</a>\u001b[0m \u001b[39mprint\u001b[39m(\u001b[39m\"\u001b[39m\u001b[39mTransformed Data\u001b[39m\u001b[39m\"\u001b[39m) \n\u001b[0;32m     <a href='vscode-notebook-cell:/c%3A/Users/cookoli/Documents/IBM-Data-Engineering-Professional/Course%203%20-%20Python%20Project%20for%20Data%20Engineering/Extract%2C%20Transform%20and%20Load%20Market%20Capitalization%20data/banks_project.ipynb#W6sZmlsZQ%3D%3D?line=9'>10</a>\u001b[0m \u001b[39mprint\u001b[39m(transformed_data) \n",
      "\u001b[1;32mc:\\Users\\cookoli\\Documents\\IBM-Data-Engineering-Professional\\Course 3 - Python Project for Data Engineering\\Extract, Transform and Load Market Capitalization data\\banks_project.ipynb Cell 5\u001b[0m line \u001b[0;36m4\n\u001b[0;32m     <a href='vscode-notebook-cell:/c%3A/Users/cookoli/Documents/IBM-Data-Engineering-Professional/Course%203%20-%20Python%20Project%20for%20Data%20Engineering/Extract%2C%20Transform%20and%20Load%20Market%20Capitalization%20data/banks_project.ipynb#W6sZmlsZQ%3D%3D?line=44'>45</a>\u001b[0m \u001b[39m\u001b[39m\u001b[39m''' This function gets exchange information from csv_url and transform the dataframe by \u001b[39;00m\n\u001b[0;32m     <a href='vscode-notebook-cell:/c%3A/Users/cookoli/Documents/IBM-Data-Engineering-Professional/Course%203%20-%20Python%20Project%20for%20Data%20Engineering/Extract%2C%20Transform%20and%20Load%20Market%20Capitalization%20data/banks_project.ipynb#W6sZmlsZQ%3D%3D?line=45'>46</a>\u001b[0m \u001b[39madding columns for Market Capitalization in GBP, EUR, and INR, rounded to 2 decimal places.\u001b[39;00m\n\u001b[0;32m     <a href='vscode-notebook-cell:/c%3A/Users/cookoli/Documents/IBM-Data-Engineering-Professional/Course%203%20-%20Python%20Project%20for%20Data%20Engineering/Extract%2C%20Transform%20and%20Load%20Market%20Capitalization%20data/banks_project.ipynb#W6sZmlsZQ%3D%3D?line=46'>47</a>\u001b[0m \u001b[39mThe function returns the transformed dataframe.'''\u001b[39;00m\n\u001b[0;32m     <a href='vscode-notebook-cell:/c%3A/Users/cookoli/Documents/IBM-Data-Engineering-Professional/Course%203%20-%20Python%20Project%20for%20Data%20Engineering/Extract%2C%20Transform%20and%20Load%20Market%20Capitalization%20data/banks_project.ipynb#W6sZmlsZQ%3D%3D?line=47'>48</a>\u001b[0m exchange_info \u001b[39m=\u001b[39m pd\u001b[39m.\u001b[39mread_csv(csv_url)\n\u001b[1;32m---> <a href='vscode-notebook-cell:/c%3A/Users/cookoli/Documents/IBM-Data-Engineering-Professional/Course%203%20-%20Python%20Project%20for%20Data%20Engineering/Extract%2C%20Transform%20and%20Load%20Market%20Capitalization%20data/banks_project.ipynb#W6sZmlsZQ%3D%3D?line=48'>49</a>\u001b[0m df\u001b[39m.\u001b[39mMC_GBP_Billions \u001b[39m=\u001b[39m \u001b[39mround\u001b[39m(df\u001b[39m.\u001b[39;49mMC_USD_Billions \u001b[39m*\u001b[39;49m exchange_info\u001b[39m.\u001b[39;49mloc[exchange_info[\u001b[39m\"\u001b[39;49m\u001b[39mCurrency\u001b[39;49m\u001b[39m\"\u001b[39;49m] \u001b[39m==\u001b[39;49m \u001b[39m\"\u001b[39;49m\u001b[39mGBP\u001b[39;49m\u001b[39m\"\u001b[39;49m, \u001b[39m\"\u001b[39;49m\u001b[39mRate\u001b[39;49m\u001b[39m\"\u001b[39;49m], \u001b[39m2\u001b[39m)\n\u001b[0;32m     <a href='vscode-notebook-cell:/c%3A/Users/cookoli/Documents/IBM-Data-Engineering-Professional/Course%203%20-%20Python%20Project%20for%20Data%20Engineering/Extract%2C%20Transform%20and%20Load%20Market%20Capitalization%20data/banks_project.ipynb#W6sZmlsZQ%3D%3D?line=49'>50</a>\u001b[0m df\u001b[39m.\u001b[39mMC_EUR_Billions \u001b[39m=\u001b[39m \u001b[39mround\u001b[39m(df\u001b[39m.\u001b[39mMC_USD_Billions \u001b[39m*\u001b[39m exchange_info\u001b[39m.\u001b[39mloc[exchange_info[\u001b[39m\"\u001b[39m\u001b[39mCurrency\u001b[39m\u001b[39m\"\u001b[39m] \u001b[39m==\u001b[39m \u001b[39m\"\u001b[39m\u001b[39mEUR\u001b[39m\u001b[39m\"\u001b[39m, \u001b[39m\"\u001b[39m\u001b[39mRate\u001b[39m\u001b[39m\"\u001b[39m], \u001b[39m2\u001b[39m)\n\u001b[0;32m     <a href='vscode-notebook-cell:/c%3A/Users/cookoli/Documents/IBM-Data-Engineering-Professional/Course%203%20-%20Python%20Project%20for%20Data%20Engineering/Extract%2C%20Transform%20and%20Load%20Market%20Capitalization%20data/banks_project.ipynb#W6sZmlsZQ%3D%3D?line=50'>51</a>\u001b[0m df\u001b[39m.\u001b[39mMC_INR_Billions \u001b[39m=\u001b[39m \u001b[39mround\u001b[39m(df\u001b[39m.\u001b[39mMC_USD_Billions \u001b[39m*\u001b[39m exchange_info\u001b[39m.\u001b[39mloc[exchange_info[\u001b[39m\"\u001b[39m\u001b[39mCurrency\u001b[39m\u001b[39m\"\u001b[39m] \u001b[39m==\u001b[39m \u001b[39m\"\u001b[39m\u001b[39mINR\u001b[39m\u001b[39m\"\u001b[39m, \u001b[39m\"\u001b[39m\u001b[39mRate\u001b[39m\u001b[39m\"\u001b[39m], \u001b[39m2\u001b[39m)\n",
      "File \u001b[1;32mc:\\Users\\cookoli\\AppData\\Local\\Programs\\Python\\Python312\\Lib\\site-packages\\pandas\\core\\ops\\common.py:76\u001b[0m, in \u001b[0;36m_unpack_zerodim_and_defer.<locals>.new_method\u001b[1;34m(self, other)\u001b[0m\n\u001b[0;32m     72\u001b[0m             \u001b[39mreturn\u001b[39;00m \u001b[39mNotImplemented\u001b[39m\n\u001b[0;32m     74\u001b[0m other \u001b[39m=\u001b[39m item_from_zerodim(other)\n\u001b[1;32m---> 76\u001b[0m \u001b[39mreturn\u001b[39;00m method(\u001b[39mself\u001b[39;49m, other)\n",
      "File \u001b[1;32mc:\\Users\\cookoli\\AppData\\Local\\Programs\\Python\\Python312\\Lib\\site-packages\\pandas\\core\\arraylike.py:202\u001b[0m, in \u001b[0;36mOpsMixin.__mul__\u001b[1;34m(self, other)\u001b[0m\n\u001b[0;32m    200\u001b[0m \u001b[39m@unpack_zerodim_and_defer\u001b[39m(\u001b[39m\"\u001b[39m\u001b[39m__mul__\u001b[39m\u001b[39m\"\u001b[39m)\n\u001b[0;32m    201\u001b[0m \u001b[39mdef\u001b[39;00m \u001b[39m__mul__\u001b[39m(\u001b[39mself\u001b[39m, other):\n\u001b[1;32m--> 202\u001b[0m     \u001b[39mreturn\u001b[39;00m \u001b[39mself\u001b[39;49m\u001b[39m.\u001b[39;49m_arith_method(other, operator\u001b[39m.\u001b[39;49mmul)\n",
      "File \u001b[1;32mc:\\Users\\cookoli\\AppData\\Local\\Programs\\Python\\Python312\\Lib\\site-packages\\pandas\\core\\series.py:5815\u001b[0m, in \u001b[0;36mSeries._arith_method\u001b[1;34m(self, other, op)\u001b[0m\n\u001b[0;32m   5813\u001b[0m \u001b[39mdef\u001b[39;00m \u001b[39m_arith_method\u001b[39m(\u001b[39mself\u001b[39m, other, op):\n\u001b[0;32m   5814\u001b[0m     \u001b[39mself\u001b[39m, other \u001b[39m=\u001b[39m \u001b[39mself\u001b[39m\u001b[39m.\u001b[39m_align_for_op(other)\n\u001b[1;32m-> 5815\u001b[0m     \u001b[39mreturn\u001b[39;00m base\u001b[39m.\u001b[39;49mIndexOpsMixin\u001b[39m.\u001b[39;49m_arith_method(\u001b[39mself\u001b[39;49m, other, op)\n",
      "File \u001b[1;32mc:\\Users\\cookoli\\AppData\\Local\\Programs\\Python\\Python312\\Lib\\site-packages\\pandas\\core\\base.py:1381\u001b[0m, in \u001b[0;36mIndexOpsMixin._arith_method\u001b[1;34m(self, other, op)\u001b[0m\n\u001b[0;32m   1378\u001b[0m     rvalues \u001b[39m=\u001b[39m np\u001b[39m.\u001b[39marange(rvalues\u001b[39m.\u001b[39mstart, rvalues\u001b[39m.\u001b[39mstop, rvalues\u001b[39m.\u001b[39mstep)\n\u001b[0;32m   1380\u001b[0m \u001b[39mwith\u001b[39;00m np\u001b[39m.\u001b[39merrstate(\u001b[39mall\u001b[39m\u001b[39m=\u001b[39m\u001b[39m\"\u001b[39m\u001b[39mignore\u001b[39m\u001b[39m\"\u001b[39m):\n\u001b[1;32m-> 1381\u001b[0m     result \u001b[39m=\u001b[39m ops\u001b[39m.\u001b[39;49marithmetic_op(lvalues, rvalues, op)\n\u001b[0;32m   1383\u001b[0m \u001b[39mreturn\u001b[39;00m \u001b[39mself\u001b[39m\u001b[39m.\u001b[39m_construct_result(result, name\u001b[39m=\u001b[39mres_name)\n",
      "File \u001b[1;32mc:\\Users\\cookoli\\AppData\\Local\\Programs\\Python\\Python312\\Lib\\site-packages\\pandas\\core\\ops\\array_ops.py:285\u001b[0m, in \u001b[0;36marithmetic_op\u001b[1;34m(left, right, op)\u001b[0m\n\u001b[0;32m    281\u001b[0m     _bool_arith_check(op, left, right)  \u001b[39m# type: ignore[arg-type]\u001b[39;00m\n\u001b[0;32m    283\u001b[0m     \u001b[39m# error: Argument 1 to \"_na_arithmetic_op\" has incompatible type\u001b[39;00m\n\u001b[0;32m    284\u001b[0m     \u001b[39m# \"Union[ExtensionArray, ndarray[Any, Any]]\"; expected \"ndarray[Any, Any]\"\u001b[39;00m\n\u001b[1;32m--> 285\u001b[0m     res_values \u001b[39m=\u001b[39m _na_arithmetic_op(left, right, op)  \u001b[39m# type: ignore[arg-type]\u001b[39;00m\n\u001b[0;32m    287\u001b[0m \u001b[39mreturn\u001b[39;00m res_values\n",
      "File \u001b[1;32mc:\\Users\\cookoli\\AppData\\Local\\Programs\\Python\\Python312\\Lib\\site-packages\\pandas\\core\\ops\\array_ops.py:229\u001b[0m, in \u001b[0;36m_na_arithmetic_op\u001b[1;34m(left, right, op, is_cmp)\u001b[0m\n\u001b[0;32m    221\u001b[0m \u001b[39mexcept\u001b[39;00m \u001b[39mTypeError\u001b[39;00m:\n\u001b[0;32m    222\u001b[0m     \u001b[39mif\u001b[39;00m \u001b[39mnot\u001b[39;00m is_cmp \u001b[39mand\u001b[39;00m (\n\u001b[0;32m    223\u001b[0m         left\u001b[39m.\u001b[39mdtype \u001b[39m==\u001b[39m \u001b[39mobject\u001b[39m \u001b[39mor\u001b[39;00m \u001b[39mgetattr\u001b[39m(right, \u001b[39m\"\u001b[39m\u001b[39mdtype\u001b[39m\u001b[39m\"\u001b[39m, \u001b[39mNone\u001b[39;00m) \u001b[39m==\u001b[39m \u001b[39mobject\u001b[39m\n\u001b[0;32m    224\u001b[0m     ):\n\u001b[1;32m   (...)\u001b[0m\n\u001b[0;32m    227\u001b[0m         \u001b[39m# Don't do this for comparisons, as that will handle complex numbers\u001b[39;00m\n\u001b[0;32m    228\u001b[0m         \u001b[39m#  incorrectly, see GH#32047\u001b[39;00m\n\u001b[1;32m--> 229\u001b[0m         result \u001b[39m=\u001b[39m _masked_arith_op(left, right, op)\n\u001b[0;32m    230\u001b[0m     \u001b[39melse\u001b[39;00m:\n\u001b[0;32m    231\u001b[0m         \u001b[39mraise\u001b[39;00m\n",
      "File \u001b[1;32mc:\\Users\\cookoli\\AppData\\Local\\Programs\\Python\\Python312\\Lib\\site-packages\\pandas\\core\\ops\\array_ops.py:165\u001b[0m, in \u001b[0;36m_masked_arith_op\u001b[1;34m(x, y, op)\u001b[0m\n\u001b[0;32m    163\u001b[0m     \u001b[39m# See GH#5284, GH#5035, GH#19448 for historical reference\u001b[39;00m\n\u001b[0;32m    164\u001b[0m     \u001b[39mif\u001b[39;00m mask\u001b[39m.\u001b[39many():\n\u001b[1;32m--> 165\u001b[0m         result[mask] \u001b[39m=\u001b[39m op(xrav[mask], yrav[mask])\n\u001b[0;32m    167\u001b[0m \u001b[39melse\u001b[39;00m:\n\u001b[0;32m    168\u001b[0m     \u001b[39mif\u001b[39;00m \u001b[39mnot\u001b[39;00m is_scalar(y):\n",
      "\u001b[1;31mTypeError\u001b[0m: can't multiply sequence by non-int of type 'float'"
     ]
    }
   ],
   "source": [
    "# Testing ETL operations and log progress\n",
    "# Log the initialization of the ETL process \n",
    "log_progress(\"Preliminaries complete. Initiating ETL process\")\n",
    "extracted_data = extract(data_url, table_attribs)\n",
    " \n",
    "# Log the completion of the Extraction process and begin transformation process\n",
    "log_progress(\"Data extraction complete. Initiating Transformation process\")\n",
    "transformed_data = transform(extracted_data, csv_url) \n",
    "print(\"Transformed Data\") \n",
    "print(transformed_data) \n",
    " \n",
    "# Log the completion of the Transformation process and begin loading process\n",
    "log_progress(\"Data transformation complete. Initiating loading process\")\n",
    "load_to_csv(transformed_data, csv_path)\n",
    "\n",
    "log_progress(\"Data saved to CSV file\") \n",
    "\n",
    "# Use SQLite3 to create and connect to a new database World_Economies.db\n",
    "sql_connection = sqlite3.connect(db_name)\n",
    "\n",
    "log_progress(\"SQL Connection initiated\")\n",
    "\n",
    "load_to_db(transformed_data, sql_connection, table_name)\n",
    "\n",
    "log_progress(\"Data loaded to Database as table. Running the query\")\n",
    "\n",
    "query_statement_1 = f\"SELECT Name, MC_GBP_Billions FROM {table_name}\"\n",
    "query_statement_2 = f\"SELECT Name, MC_EUR_Billions FROM {table_name}\"\n",
    "query_statement_3 = f\"SELECT Name, MC_INR_Billions FROM {table_name}\"\n",
    "\n",
    "print(run_query(query_statement_1, sql_connection))\n",
    "print()\n",
    "print(run_query(query_statement_2, sql_connection))\n",
    "print()\n",
    "print(run_query(query_statement_3, sql_connection))\n",
    " \n",
    "# Log the completion of the process \n",
    "log_progress(\"Process Complete\") \n",
    "\n",
    "sql_connection.close()"
   ]
  },
  {
   "cell_type": "code",
   "execution_count": null,
   "metadata": {},
   "outputs": [],
   "source": []
  }
 ],
 "metadata": {
  "kernelspec": {
   "display_name": "Python 3",
   "language": "python",
   "name": "python3"
  },
  "language_info": {
   "codemirror_mode": {
    "name": "ipython",
    "version": 3
   },
   "file_extension": ".py",
   "mimetype": "text/x-python",
   "name": "python",
   "nbconvert_exporter": "python",
   "pygments_lexer": "ipython3",
   "version": "3.12.0"
  }
 },
 "nbformat": 4,
 "nbformat_minor": 2
}
